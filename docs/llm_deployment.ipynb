{
  "cells": [
    {
      "cell_type": "markdown",
      "metadata": {
        "id": "view-in-github",
        "colab_type": "text"
      },
      "source": [
        "<a href=\"https://colab.research.google.com/github/tatianabazouni/livedrop-tatiana/blob/main/llm_deployment.ipynb\" target=\"_parent\"><img src=\"https://colab.research.google.com/assets/colab-badge.svg\" alt=\"Open In Colab\"/></a>"
      ]
    },
    {
      "cell_type": "code",
      "execution_count": 1,
      "metadata": {
        "colab": {
          "base_uri": "https://localhost:8080/"
        },
        "id": "9worJvoN_jQA",
        "outputId": "707a07df-c969-46a7-a51a-abdaf766ed71"
      },
      "outputs": [
        {
          "output_type": "stream",
          "name": "stdout",
          "text": [
            "\u001b[2K   \u001b[90m━━━━━━━━━━━━━━━━━━━━━━━━━━━━━━━━━━━━━━━━\u001b[0m \u001b[32m31.4/31.4 MB\u001b[0m \u001b[31m21.4 MB/s\u001b[0m eta \u001b[36m0:00:00\u001b[0m\n",
            "\u001b[2K   \u001b[90m━━━━━━━━━━━━━━━━━━━━━━━━━━━━━━━━━━━━━━━━\u001b[0m \u001b[32m60.1/60.1 MB\u001b[0m \u001b[31m13.5 MB/s\u001b[0m eta \u001b[36m0:00:00\u001b[0m\n",
            "\u001b[?25h"
          ]
        }
      ],
      "source": [
        "# Cell 1: Install dependencies\n",
        "!pip -q install torch --index-url https://download.pytorch.org/whl/cu121\n",
        "!pip -q install transformers accelerate sentence-transformers faiss-cpu flask pyngrok bitsandbytes pyyaml\n",
        ""
      ]
    },
    {
      "cell_type": "code",
      "execution_count": 2,
      "metadata": {
        "id": "8P0avCav5WQQ"
      },
      "outputs": [],
      "source": [
        "# Cell 2: Import libraries and setup\n",
        "import os, json,requests, time, threading\n",
        "from typing import List, Dict\n",
        "from flask import Flask, request, jsonify\n",
        "from pyngrok import ngrok\n",
        "import faiss\n",
        "from sentence_transformers import SentenceTransformer\n",
        "import numpy as np\n",
        "\n",
        "from transformers import AutoTokenizer, AutoModelForCausalLM, pipeline\n",
        "\n",
        "# Globals\n",
        "PORT = 5000\n",
        "TOP_K = 4  # top-k retrieval\n",
        "EMB_MODEL_NAME = \"all-MiniLM-L6-v2\"  # small, fast embedding model\n"
      ]
    },
    {
      "cell_type": "code",
      "execution_count": 4,
      "metadata": {
        "id": "MCeytckx5bj-"
      },
      "outputs": [],
      "source": [
        "# Cell 3: Knowledge base data as python dictionaries\n",
        "\n",
        "KNOWLEDGE_BASE = [\n",
        "    {\n",
        "        \"title\": \"Document 1: User Registration and Account Management\",\n",
        "        \"content\": \"To create a Shoplite account, users visit the registration page and provide their email address, password, and basic profile information. Email verification is required within 24 hours of registration. Users can choose between buyer accounts (free) or seller accounts (which require additional business verification). The buyer registration is straightforward: username, email, password, and optional phone number for SMS notifications. Password rules enforce a minimum of 8 characters including one uppercase letter and one number. For account recovery, Shoplite supports email-based reset links and optional two-factor authentication (2FA) via TOTP apps (e.g., Google Authenticator). Seller registration begins with company name, tax ID, business address, bank account information for payouts, and uploading identification documents. Shoplite performs automated checks and then a manual review. Once approved, sellers receive an onboarding email with links to seller dashboard, inventory upload templates (CSV), and API keys for integration. Users may upgrade or downgrade account types in Account Settings; downgrades may affect seller features and payout schedules. All accounts must agree to the Terms of Service and Privacy Policy during sign-up. The document includes examples of common registration errors (invalid email formats, password mismatch, duplicate email) and recommended UI messages to reduce user friction. Finally, we describe how Shoplite notifies users about unverified accounts and the process to resend verification links.\",\n",
        "        \"id\": \"doc1\"\n",
        "    },\n",
        "    {\n",
        "        \"title\": \"Document 2: Product Search and Filtering Features\",\n",
        "        \"content\": \"Shoplite's search engine combines keyword search, faceted filters, and relevance ranking. Core features include fuzzy matching, stemming, synonyms, and typo tolerance. Filters include category, price range, seller rating, shipping time, availability (in-stock), condition (new/refurbished), and promotions. The UI supports multi-select filters and dynamic counts. Search relevancy uses a weighted mix of title matches, description matches, popularity, conversion rate, and seller reputation. For personalized search, Shoplite applies user history (recently viewed, purchased categories) to boost results. Sorting options include 'Relevance', 'Price: Low to High', 'Price: High to Low', 'Best Sellers', and 'Newest'. Autocomplete leverages prefix matching and trending queries; it returns up to 6 suggestions and throttles suggestions per session to reduce API load. For API consumers, search endpoints accept `q`, `filters` (JSON), `sort`, `page`, and `per_page`. Query performance is optimized with a cached product index updated incrementally as inventory changes. The document also details how to handle out-of-stock SKUs (show 'notify me' and hide from default listings when hidden by seller) and how promotional badges (e.g., 'Free shipping', 'Top Seller') are calculated and presented.\",\n",
        "        \"id\": \"doc2\"\n",
        "    },\n",
        "    {\n",
        "        \"title\": \"Document 3: Shopping Cart and Checkout Process\",\n",
        "        \"content\": \"Shoplite’s cart persists across devices for logged-in users; guests maintain a session cart via cookies for 30 days. A cart may contain items from multiple sellers; Shoplite splits the checkout into a unified payment while creating distinct seller-level orders for fulfillment. During checkout, taxes and shipping are estimated based on shipping address and seller settings; final amounts are calculated at order placement. The checkout flow includes address selection, shipping option selection (standard, expedited), payment method, promo code entry, and order review. Payment authorization occurs immediately; capture occurs at the time of order placement except where preauthorization rules apply (e.g., high-risk orders). The system supports saved cards (tokenized) and wallets. For multi-seller orders, Shoplite aggregates totals but tracks each seller’s payout and commission separately. The platform supports invoice generation and sends order confirmation emails to buyer and seller with expected shipping windows. Failed payments trigger retries and email notifications; if payment fails after retries, the order is canceled and inventory restored. The cart UI provides clear error messages when items become unavailable during checkout and supports one-click purchase for stored payment methods.\",\n",
        "        \"id\": \"doc3\"\n",
        "    },\n",
        "    {\n",
        "        \"title\": \"Document 4: Payment Methods and Security\",\n",
        "        \"content\": \"Shoplite accepts major card networks and popular digital wallets. Payment processing is handled via partnered payment gateways; card data is never stored on Shoplite servers — tokenization and PCI-compliant partners manage card details. For marketplaces, Shoplite supports split payments via the payment provider, ensuring funds are routed to sellers minus platform commission. Additional fraud mitigation includes AVS check, CVV verification, velocity checks, device fingerprinting, and machine-learning risk signals that trigger manual review for suspect transactions. Refunds are processed through the original payment method and may take 3–10 business days depending on bank processing times. For high-value or flagged transactions, Shoplite may require manual KYC review or additional documents. The Security section covers encryption (TLS 1.2+), secrets management, and recommended developer practices: use short-lived keys, rotate API keys, restrict webhook IPs, and validate payload signatures. The document also explains the dispute workflow: chargeback notifications forwarded to seller with evidence upload portals for response.\",\n",
        "        \"id\": \"doc4\"\n",
        "    },\n",
        "    {\n",
        "        \"title\": \"Document 5: Order Tracking and Delivery\",\n",
        "        \"content\": \"After a seller marks an order as shipped, Shoplite integrates with carrier partners to generate tracking numbers and provide real-time status updates. Tracking status includes: Processing, Shipped, In Transit, Out for Delivery, Delivered, and Exception. Shoplite supports auto-tracking by pushing shipping labels via partner APIs or by allowing sellers to upload tracking numbers manually. Delivery estimates are calculated using seller location, buyer location, service level, and lead time. The platform supports fulfillment options: seller fulfillment, platform-fulfilled (Shoplite Logistics), or third-party logistics (3PL) integrations. For multi-seller orders, each item gets its own shipment tracking; the buyer sees them consolidated in the order view. Delivery exceptions (missed delivery, address problem) initiate a notification sequence and request seller or buyer action. For international orders, customs, duties, and VAT handling rules are documented; Shoplite can present DDP (Delivered Duty Paid) or DAP options depending on seller preference. The platform exposes an API for tracking updates and webhooks for status changes to integrated seller systems.\",\n",
        "        \"id\": \"doc5\"\n",
        "    },\n",
        "    {\n",
        "        \"title\": \"Document 6: Return and Refund Policies\",\n",
        "        \"content\": \"Shoplite’s standardized return policy for eligible items is a 30-day return window starting from delivery date, unless the seller sets a longer window. Certain categories (perishables, intimate goods) may be non-returnable by default. Return requests require a reason code and may include photo evidence. Once a return is approved, the buyer receives a return authorization and instructions for shipping (prepaid label or buyer-paid depending on seller policy). Refunds are issued after the seller confirms item receipt and inspection; in case of seller dispute, Shoplite’s dispute resolution team intervenes. For seller-initiated refunds (e.g., wrong item), refunds are processed immediately and inventory is adjusted. Partial refunds for damaged items are supported. The document describes the timeline for refunds (typically 3–10 business days), restocking fees (optional for sellers), and cases where the buyer may receive replacement or store credit. The policy also includes guidance for fraudulent return detection and handling inbound returns to third-party warehousing.\",\n",
        "        \"id\": \"doc6\"\n",
        "    },\n",
        "    {\n",
        "        \"title\": \"Document 7: Product Reviews and Ratings\",\n",
        "        \"content\": \"Shoplite enables buyers to leave reviews with a star rating (1–5), title, body text, and optional photos. Verified purchases are flagged to help trust. Ratings aggregate at the product and seller level; seller rating is a weighted score combining product ratings, fulfillment performance, and dispute rates. To prevent abuse, Shoplite enforces policies: one review per purchase, detection of suspicious review patterns, and manual moderation for flagged content. Sellers may respond to reviews publicly. Reviews feed into search ranking, with higher-rated products boosted in relevance for certain filters. The platform supports Q&A where prospective buyers ask the seller public questions; sellers and other buyers may answer. Reviews API allows export for sellers to display on external sites. Shoplite uses review sampling to invite buyers to leave reviews via post-delivery emails and push notifications; buyers who report a problem during review submission are directed to open a support ticket instead.\",\n",
        "        \"id\": \"doc7\"\n",
        "    },\n",
        "    {\n",
        "        \"title\": \"Document 8: Seller Account Setup and Management\",\n",
        "        \"content\": \"Sellers begin with account creation, provide business details, tax IDs, and bank information for payouts. Shoplite runs automated background checks to validate identity and tax status; the manual review stage covers document veracity. Onboarding includes verifying product categories, acceptable item lists, and compliance checks for restricted goods. The seller dashboard offers step-by-step setup tasks: profile completion, store policies (shipping, returns), inventory upload templates, and pricing rules. Shoplite provides CSV and API options for bulk product listing. Sellers can opt into Shoplite Logistics or use their own shipping integrations. Payout cadence default is weekly, with optional daily payout for high-volume sellers upon credit check approval. Sellers must agree to marketplace policies, fee schedules, and dispute handling procedures. The onboarding guides include best practices for product photography, titles, and descriptions to maximize conversion.\",\n",
        "        \"id\": \"doc8\"\n",
        "    },\n",
        "    {\n",
        "        \"title\": \"Document 9: Inventory Management for Sellers\",\n",
        "        \"content\": \"Shoplite supports inventory control with stock-keeping units (SKUs), batch updates, and threshold alerts. Sellers can set `available_stock` per SKU and allow backorder or disable backorder. Inventory updates can be done via the Seller UI, CSV upload, or API webhooks. The system supports multi-warehouse inventory where sellers can allocate stock to different fulfillment centers. When orders place, inventory is reserved (not deducted) until payment capture completes to prevent overselling. Batch imports are validated and produce a preview report with errors. Inventory reporting includes low-stock alerts, turnover reports, and aging inventory suggestions. For integrated sellers, Shoplite offers real-time sync via webhooks to avoid race conditions across channels. Sellers may configure automatic restock notifications to subscribers.\",\n",
        "        \"id\": \"doc9\"\n",
        "    },\n",
        "    {\n",
        "        \"title\": \"Document 10: Commission and Fee Structure\",\n",
        "        \"content\": \"Shoplite charges a combination of listing fees (category-dependent), transaction commissions (percentage of sale), and payment processing fees. Commission tiers exist by product category and seller subscription level (Basic, Pro, Enterprise). Example: Basic sellers pay 10% commission and Pro sellers 7% with a monthly subscription fee. Additional fees may apply for promoted listings, fulfillment services, or returns handling. Payout calculations show gross sales, commission deduction, refunds, and net payable amount. Fees are computed at order settlement and visible in seller analytics. The document outlines invoicing cadence, fee disputes, and how promotional rebates are reflected in payouts. Sellers receive a detailed payout statement per payout cycle including order IDs, fees, and adjustments.\",\n",
        "        \"id\": \"doc10\"\n",
        "    },\n",
        "    {\n",
        "        \"title\": \"Document 11: Customer Support Procedures\",\n",
        "        \"content\": \"Shoplite’s customer support includes help center articles, in-app chat with bots (first-line), and human agents for escalations. Support operates 24/7 for critical incidents and business hours for standard queries. The support flow encourages self-service: searchable FAQs, guided troubleshooting, and automated flows for common tasks (track order, request return, cancel order). For unresolved issues, tickets are created with SLA rules: 24-hour response for general tickets, 48–72 hours for investigations, and 3–5 business days for appeals. Support agents have role-based dashboards with access to order history, communication logs, and seller responses. The document details escalation matrices (fraud, legal, data breach), templates for common replies, and quality metrics (first response time, resolution time). Agents must follow data privacy rules when requesting documents and only request necessary data.\",\n",
        "        \"id\": \"doc11\"\n",
        "    },\n",
        "    {\n",
        "        \"title\": \"Document 12: Mobile App Features\",\n",
        "        \"content\": \"Shoplite’s mobile app provides core marketplace features optimized for small screens: personalized home feed, push notifications for order events, in-app barcode scanner for sellers to add inventory, and one-tap checkout for saved cards. The mobile app supports offline draft carts, camera-based product photography with auto-cropping, and quick-scan QR codes for seller storefront sharing. Push notifications cover order status, promotions, and support messages. The app includes a simplified seller dashboard with order management and quick replies for buyer queries. Some heavy analytics sections are desktop-only for clarity. The document lists permissions the app uses (camera, storage, notifications) and privacy choices presented to users, plus guidance for mobile-first UI/UX patterns used in Shoplite.\",\n",
        "        \"id\": \"doc12\"\n",
        "    },\n",
        "    {\n",
        "        \"title\": \"Document 13: API Documentation for Developers\",\n",
        "        \"content\": \"Shoplite provides REST APIs for product listing, inventory updates, order retrieval, and webhooks. API authentication uses API keys created in the seller dashboard; keys may be scoped (read-only, orders-write). The API supports pagination, idempotency tokens for safe retries, and webhooks for order updates and returns. Rate limits vary by plan; Basic plan gets 60 RPM and Pro plan gets higher quotas. The document includes code samples (curl, Python requests) for common tasks: listing a product, retrieving orders, updating inventory, and responding to a webhook challenge. Webhook security includes signing payloads with a secret and replay protection via nonce and timestamp. Error codes are standardized (4xx for client errors, 5xx for server errors) with specific messages for common failure modes.\",\n",
        "        \"id\": \"doc13\"\n",
        "    },\n",
        "    {\n",
        "        \"title\": \"Document 14: Security and Privacy Policies\",\n",
        "        \"content\": \"Shoplite’s security model includes encryption-in-transit (TLS 1.2+), encryption-at-rest for sensitive fields, role-based access control, regular vulnerability scanning, and an incident response plan. Personal data processing practices follow privacy-by-design principles; Shoplite supports data subject requests (access, portability, deletion) in line with applicable laws. The document covers password storage (salted hashing), session expiration policies, and secure handling of PII. For developers, there are guidelines on storing secrets, using environment variables, and restricting access. The incident response section outlines notification timelines to affected users and regulators, evidence collection, and remediation steps.\",\n",
        "        \"id\": \"doc14\"\n",
        "    },\n",
        "    {\n",
        "        \"title\": \"Document 15: Promotional Codes and Discounts\",\n",
        "        \"content\": \"Shoplite supports promo codes (single use, multi-use), automatic discounts (cart-level), and seller-level promotions. Promo definitions include discount type (percentage, fixed amount), start/end dates, usage limits, and eligible SKUs or categories. Campaigns can be scheduled and A/B tested. The platform supports stacking rules and priority resolution when multiple promotions apply. Analytics show uplift, redemption rate, and incremental sales. For checkout, promo validation runs during cart calculation and returns clear error codes (expired, ineligible, usage limit exceeded). Sellers can allocate a budget to platform promotions and see spend vs. return in analytics.\",\n",
        "        \"id\": \"doc15\"\n",
        "    }\n",
        "]\n",
        "\n",
        "\n"
      ]
    },
    {
      "cell_type": "code",
      "execution_count": 5,
      "metadata": {
        "id": "90I-Df2__jQI"
      },
      "outputs": [],
      "source": [
        "\n",
        "\n",
        "# Cell 4: Assisted Prompts Configuration\n",
        "PROMPTS = {\n",
        "  \"base_retrieval_prompt\": {\n",
        "    \"role\": \"You are a helpful Shoplite customer service assistant.\",\n",
        "    \"goal\": \"Provide accurate, concise answers using only the provided Shoplite documentation snippets.\",\n",
        "    \"context_guidelines\": [\n",
        "      \"Avoid assumptions\",\n",
        "      \"Use only information from the provided document snippets\",\n",
        "      \"Cite the document title you used\",\n",
        "      \"Keep answers concise (3-5 sentences)\",\n",
        "      \"If no relevant context is found, politely refuse and offer next steps\"\n",
        "    ],\n",
        "    \"response_format\": \"Answer: [Your response based on one document]\\nSources: [List document titles referenced]\"\n",
        "  },\n",
        "\n",
        "  \"chitchat_assistant\": {\n",
        "    \"role\": \"You are a friendly Shoplite assistant.\",\n",
        "    \"goal\": \"Respond to greetings and social interactions politely while staying on-brand.\",\n",
        "    \"context_guidelines\": [\n",
        "      \"Keep responses brief and friendly.\",\n",
        "      \"Acknowledge greetings and pleasantries\",\n",
        "      \"Avoid technical or policy details unless directly relevant\",\n",
        "      \"For questions outside your scope, politely decline and suggest contacting support\"\n",
        "    ],\n",
        "    \"response_format\": \"Answer: [Friendly response]\\nSources: none\"\n",
        "  },\n",
        "\n",
        "  \"multi_doc_synthesis\": {\n",
        "    \"role\": \"You are a Shoplite systems specialist assistant.\",\n",
        "    \"goal\": \"Synthesize details from multiple documents and produce a single authoritative answer with citations.\",\n",
        "    \"context_guidelines\": [\n",
        "      \"List all documents used in the synthesis\",\n",
        "      \"Focus on the most important points across all retrieved documents\",\n",
        "      \"Do not list every detail; highlight key facts\",\n",
        "      \"Maintain neutrality and avoid bias\",\n",
        "      \"Avoid redundancy\",\n",
        "      \"Ensure clarity and conciseness\",\n",
        "      \"When details conflict, state the conflict and prefer platform-level policies over seller customizations\",\n",
        "      \"Include required keywords if present in authoritative answers\"\n",
        "    ],\n",
        "    \"response_format\": \"Answer: [Synthesis from 2 to 4 documents]\\nDetails: [Bulleted facts with document citations]\\nSources: [List document titles referenced]\"\n",
        "  },\n",
        "\n",
        "  \"clarify_or_request_more_info\": {\n",
        "    \"role\": \"You are a helpful clarifying assistant for ambiguous queries.\",\n",
        "    \"goal\": \"Ask concise questions to obtain missing context before attempting retrieval.\",\n",
        "    \"context_guidelines\": [\n",
        "      \"If the user query lacks required info (order ID, product SKU, timeframe), ask for it\",\n",
        "      \"Limit clarifying questions to 1–2 so the user can respond quickly\"\n",
        "    ],\n",
        "    \"response_format\": \"Clarifying question: [Single question]\\nExample required info: [order ID, SKU, delivery date, etc.]\"\n",
        "  },\n",
        "\n",
        "  \"refusal_and_escalation\": {\n",
        "    \"role\": \"You are a safety-aware assistant that refuses inappropriate requests and escalates policy issues.\",\n",
        "    \"goal\": \"Refuse to provide or invent information not found in the documentation. Escalate to human support when necessary.\",\n",
        "    \"context_guidelines\": [\n",
        "      \"If no relevant documents exist, refuse and provide the user with an escalation link or steps\",\n",
        "      \"For legal/payment disputes, direct user to open a support ticket\"\n",
        "    ],\n",
        "    \"response_format\": \"Refusal: [Short explanation]\\nNext steps: [Escalation instructions or support link]\"\n",
        "  }\n",
        "}\n"
      ]
    },
    {
      "cell_type": "code",
      "source": [
        "\n",
        "# Cell 5: LLM loading and setup\n",
        "model = AutoModelForCausalLM.from_pretrained(...)\n"
      ],
      "metadata": {
        "id": "NUySoE75_swS"
      },
      "execution_count": null,
      "outputs": []
    },
    {
      "cell_type": "code",
      "source": [
        "# Cell 6: RAG pipeline implementation\n",
        "def create_embeddings(), def retrieve_docs(), def generate_response()"
      ],
      "metadata": {
        "id": "J1rEVkbe_9_f"
      },
      "execution_count": null,
      "outputs": []
    },
    {
      "cell_type": "code",
      "source": [
        "# Cell 7: Flask API setup\n",
        "@app.route('/chat'), @app.route('/ping'), @app.route('/health')"
      ],
      "metadata": {
        "id": "MeYHpeoSAAwi"
      },
      "execution_count": null,
      "outputs": []
    },
    {
      "cell_type": "code",
      "source": [
        "# Cell 8: ngrok token input and tunnel creation\n",
        "ngrok_token = input(\"Enter your ngrok token: \")\n",
        "# Setup ngrok tunnel"
      ],
      "metadata": {
        "id": "U0yxwD3CAC0-"
      },
      "execution_count": null,
      "outputs": []
    },
    {
      "cell_type": "code",
      "source": [
        "# Cell 9: Testing and validation\n",
        "# Test your API endpoints\n"
      ],
      "metadata": {
        "id": "cC6aS3LaAEvm"
      },
      "execution_count": null,
      "outputs": []
    }
  ],
  "metadata": {
    "colab": {
      "provenance": [],
      "include_colab_link": true
    },
    "kernelspec": {
      "display_name": "Python 3",
      "name": "python3"
    },
    "language_info": {
      "name": "python"
    }
  },
  "nbformat": 4,
  "nbformat_minor": 0
}
